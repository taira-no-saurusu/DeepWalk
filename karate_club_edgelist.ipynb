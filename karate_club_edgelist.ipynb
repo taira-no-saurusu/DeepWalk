{
 "cells": [
  {
   "cell_type": "code",
   "execution_count": 1,
   "metadata": {},
   "outputs": [],
   "source": [
    "import networkx as nx"
   ]
  },
  {
   "cell_type": "code",
   "execution_count": 2,
   "metadata": {},
   "outputs": [],
   "source": [
    "G = nx.karate_club_graph()"
   ]
  },
  {
   "cell_type": "code",
   "execution_count": 6,
   "metadata": {},
   "outputs": [],
   "source": [
    "edgelist = []\n",
    "for node in G.nodes:\n",
    "    li = []\n",
    "    li.append(node)\n",
    "    li = li + list(G.neighbors(node))\n",
    "    edgelist.append(li)\n",
    "    "
   ]
  },
  {
   "cell_type": "code",
   "execution_count": 7,
   "metadata": {},
   "outputs": [
    {
     "data": {
      "text/plain": [
       "[[0, 1, 2, 3, 4, 5, 6, 7, 8, 10, 11, 12, 13, 17, 19, 21, 31],\n",
       " [1, 0, 2, 3, 7, 13, 17, 19, 21, 30],\n",
       " [2, 0, 1, 3, 7, 8, 9, 13, 27, 28, 32],\n",
       " [3, 0, 1, 2, 7, 12, 13],\n",
       " [4, 0, 6, 10],\n",
       " [5, 0, 6, 10, 16],\n",
       " [6, 0, 4, 5, 16],\n",
       " [7, 0, 1, 2, 3],\n",
       " [8, 0, 2, 30, 32, 33],\n",
       " [9, 2, 33],\n",
       " [10, 0, 4, 5],\n",
       " [11, 0],\n",
       " [12, 0, 3],\n",
       " [13, 0, 1, 2, 3, 33],\n",
       " [14, 32, 33],\n",
       " [15, 32, 33],\n",
       " [16, 5, 6],\n",
       " [17, 0, 1],\n",
       " [18, 32, 33],\n",
       " [19, 0, 1, 33],\n",
       " [20, 32, 33],\n",
       " [21, 0, 1],\n",
       " [22, 32, 33],\n",
       " [23, 25, 27, 29, 32, 33],\n",
       " [24, 25, 27, 31],\n",
       " [25, 23, 24, 31],\n",
       " [26, 29, 33],\n",
       " [27, 2, 23, 24, 33],\n",
       " [28, 2, 31, 33],\n",
       " [29, 23, 26, 32, 33],\n",
       " [30, 1, 8, 32, 33],\n",
       " [31, 0, 24, 25, 28, 32, 33],\n",
       " [32, 2, 8, 14, 15, 18, 20, 22, 23, 29, 30, 31, 33],\n",
       " [33, 8, 9, 13, 14, 15, 18, 19, 20, 23, 26, 27, 28, 29, 30, 31, 32, 22]]"
      ]
     },
     "execution_count": 7,
     "metadata": {},
     "output_type": "execute_result"
    }
   ],
   "source": [
    "edgelist"
   ]
  },
  {
   "cell_type": "code",
   "execution_count": null,
   "metadata": {},
   "outputs": [],
   "source": [
    "for edge in edgelist:\n",
    "    s = \"\"\n",
    "    for e in edge:\n",
    "        s = s + str(e) + \" \""
   ]
  }
 ],
 "metadata": {
  "kernelspec": {
   "display_name": "Python 3.8.15 ('deepwalk')",
   "language": "python",
   "name": "python3"
  },
  "language_info": {
   "codemirror_mode": {
    "name": "ipython",
    "version": 3
   },
   "file_extension": ".py",
   "mimetype": "text/x-python",
   "name": "python",
   "nbconvert_exporter": "python",
   "pygments_lexer": "ipython3",
   "version": "3.8.15"
  },
  "orig_nbformat": 4,
  "vscode": {
   "interpreter": {
    "hash": "6160aadc9d71a91d5c9b52f55eda42d06680a36fb48c8538187090cdc683f2ed"
   }
  }
 },
 "nbformat": 4,
 "nbformat_minor": 2
}
