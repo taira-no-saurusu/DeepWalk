{
 "cells": [
  {
   "cell_type": "code",
   "execution_count": 1,
   "metadata": {},
   "outputs": [],
   "source": [
    "import deepwalk\n",
    "import networkx as nx\n",
    "import random\n"
   ]
  },
  {
   "cell_type": "markdown",
   "metadata": {},
   "source": []
  },
  {
   "cell_type": "code",
   "execution_count": 48,
   "metadata": {},
   "outputs": [],
   "source": [
    "def check_method(method):\n",
    "    val = None\n",
    "    if method == \"kmedoids\" or method == \"Kmedoids\":\n",
    "        val = \"kmedoids\"\n",
    "    elif method == \"kmeans\" or method == \"Kmeans\":\n",
    "        val = \"kmeans\"\n",
    "    else:\n",
    "        sys.exit(f\"methodの値が無効です method : {method}\")\n",
    "    return val\n"
   ]
  },
  {
   "cell_type": "code",
   "execution_count": null,
   "metadata": {},
   "outputs": [
    {
     "ename": "",
     "evalue": "",
     "output_type": "error",
     "traceback": [
      "\u001b[1;31mカーネルを起動できませんでした。 \n",
      "\u001b[1;31mカーネル deepwalk (Python 3.8.15) は使用できません。詳細については、Jupyter 出力タブを確認してください。. \n",
      "\u001b[1;31m詳細については、Jupyter [ログ] (command:jupyter.viewOutput) を参照してください。"
     ]
    }
   ],
   "source": [
    "# deepwalk-クラスタリング実行回数\n",
    "TIME1 = 100\n",
    "\n",
    "#重み取得回数\n",
    "TIME2 = 500\n",
    "\n",
    "# インプットするファイル名\n",
    "INPUT = nx.karate_club_graph()\n",
    "\n",
    "# 正解ラベル\n",
    "TRUE_LABEL = deepwalk.get_label_karateclub(False)\n",
    "\n",
    "# インプットするグラフが無効かどうか\n",
    "UNDIRECTED = True\n",
    "\n",
    "# アウトプットするファイル名\n",
    "OUTPUT = \"karate.txt\"\n",
    "# １ノードあたりに実行するウォーク数 デフォルト10\n",
    "NUMBER_WALKS = 10\n",
    "\n",
    "# 1ウォークあたりの長さ デフォルト20\n",
    "WALK_LENGTH = 20\n",
    "\n",
    "# 埋め込み後の各ノードの次元数\n",
    "REPRESENTATION_SIZE = 2\n",
    "\n",
    "# skipgramので使われるウィンドウサイズ\n",
    "WINDOW_SIZE = 5\n",
    "\n",
    "# 並列プロセス数\n",
    "WORKERS = 1\n",
    "\n",
    "# クラスタ数\n",
    "N_CLUSTER = 11\n",
    "\n",
    "# クラスタリング手法\n",
    "METHOD = check_method(\"kmedoids\")\n"
   ]
  },
  {
   "cell_type": "code",
   "execution_count": 50,
   "metadata": {},
   "outputs": [
    {
     "name": "stdout",
     "output_type": "stream",
     "text": [
      "総実行回数：50000\n",
      "ARI平均 : 0.7929484774331188\n",
      "最大ARI平均 : 0.9929354524813493\n",
      "最小ARI平均 : 0.44729498843751336\n",
      "ARIが良かった時の重み平均 : 19116.286\n",
      "ARIが悪かった時の重み平均 : 19131.014\n"
     ]
    }
   ],
   "source": [
    "ARI_list_all, max_weight_list, min_weight_list = deepwalk.get_network_weight(TIME1, TIME2, INPUT, UNDIRECTED, NUMBER_WALKS, WALK_LENGTH,\n",
    "                            REPRESENTATION_SIZE, WINDOW_SIZE, WORKERS, N_CLUSTER, METHOD, TRUE_LABEL)\n"
   ]
  },
  {
   "cell_type": "code",
   "execution_count": null,
   "metadata": {},
   "outputs": [],
   "source": []
  }
 ],
 "metadata": {
  "kernelspec": {
   "display_name": "deepwalk",
   "language": "python",
   "name": "python3"
  },
  "language_info": {
   "codemirror_mode": {
    "name": "ipython",
    "version": 3
   },
   "file_extension": ".py",
   "mimetype": "text/x-python",
   "name": "python",
   "nbconvert_exporter": "python",
   "pygments_lexer": "ipython3",
   "version": "3.8.15"
  },
  "orig_nbformat": 4,
  "vscode": {
   "interpreter": {
    "hash": "6160aadc9d71a91d5c9b52f55eda42d06680a36fb48c8538187090cdc683f2ed"
   }
  }
 },
 "nbformat": 4,
 "nbformat_minor": 2
}
