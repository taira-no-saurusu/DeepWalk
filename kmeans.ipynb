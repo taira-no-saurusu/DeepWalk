{
 "cells": [
  {
   "cell_type": "code",
   "execution_count": 1,
   "metadata": {},
   "outputs": [
    {
     "name": "stderr",
     "output_type": "stream",
     "text": [
      "/var/folders/8g/dggwz7g54y736dvflmp1bt0m0000gn/T/ipykernel_10621/3496465345.py:10: DeprecationWarning: Using or importing the ABCs from 'collections' instead of from 'collections.abc' is deprecated since Python 3.3, and in 3.10 it will stop working\n",
      "  from collections import defaultdict, Iterable\n"
     ]
    }
   ],
   "source": [
    "import logging\n",
    "import sys\n",
    "from io import open\n",
    "from os import path\n",
    "from time import time\n",
    "from glob import glob\n",
    "from gensim.models import Word2Vec\n",
    "from six.moves import range, zip, zip_longest\n",
    "from six import iterkeys\n",
    "from collections import defaultdict, Iterable\n",
    "import random\n",
    "from random import shuffle\n",
    "from itertools import product, permutations\n",
    "from scipy.io import loadmat\n",
    "from scipy.sparse import issparse\n",
    "from io import open\n",
    "import deepwalk\n",
    "import pandas as pd\n",
    "import numpy as np\n",
    "from sklearn.cluster import KMeans\n",
    "import matplotlib.pyplot as plt\n",
    "import networkx as nx\n"
   ]
  },
  {
   "cell_type": "code",
   "execution_count": 3,
   "metadata": {},
   "outputs": [],
   "source": [
    "# インプットするファイル名\n",
    "INPUT = nx.karate_club_graph()\n",
    "\n",
    "# アウトプットするファイル名\n",
    "OUTPUT = \"karate.txt\"\n",
    "# １ノードあたりに実行するウォーク数\n",
    "NUMBER_WALKS = 5\n",
    "\n",
    "# 1ウォークあたりの長さ\n",
    "WALK_LENGTH = 20\n",
    "\n",
    "# ランダムシード値\n",
    "SEED = 0\n",
    "\n",
    "# 埋め込み後の各ノードの次元数\n",
    "REPRESENTATION_SIZE = 2\n",
    "\n",
    "# skipgramので使われるウィンドウサイズ\n",
    "WINDOW_SIZE = 5\n",
    "\n",
    "# 並列プロセス数\n",
    "WORKERS = 1\n",
    "\n",
    "#クラスタ数\n",
    "N_CLUSTER = 2\n"
   ]
  },
  {
   "cell_type": "code",
   "execution_count": 4,
   "metadata": {},
   "outputs": [
    {
     "name": "stdout",
     "output_type": "stream",
     "text": [
      "Number of nodes: 34\n",
      "Number of walks: 170\n",
      "Data size (walks*length): 3400\n",
      "Walking Now!!!!!!\n",
      "Embedding Now!!!!!\n"
     ]
    }
   ],
   "source": [
    "\"\"\"\n",
    "    グラフ生成\n",
    "    G = load_edgelist(ファイル名:String, 無効グラフかどうか:boolean)\n",
    "    \"\"\"\n",
    "G = deepwalk.from_networkx(INPUT, True)\n",
    "# ノード数出力\n",
    "print(\"Number of nodes: {}\".format(len(G.nodes())))\n",
    "\n",
    "# ウォーク数算出(ノード数*1ノードあたりのウォーク数)と出力\n",
    "num_walks = len(G.nodes()) * NUMBER_WALKS\n",
    "print(\"Number of walks: {}\".format(num_walks))\n",
    "\n",
    "# データサイズ(ウォーク数*ウォークの長さ)の算出と出力\n",
    "data_size = num_walks * WALK_LENGTH\n",
    "print(\"Data size (walks*length): {}\".format(data_size))\n",
    "\n",
    "print(\"Walking Now!!!!!!\")\n",
    "\n",
    "# ウォーク取得(長さは全部等しい)\n",
    "walks = deepwalk.build_deepwalk_corpus(G, num_paths=NUMBER_WALKS,\n",
    "                              path_length=WALK_LENGTH, alpha=0, rand=random.Random(SEED))\n",
    "\n",
    "print(\"Embedding Now!!!!!\")\n",
    "model = Word2Vec(walks, size=REPRESENTATION_SIZE,\n",
    "                 window=WINDOW_SIZE, min_count=0, sg=1, hs=1, workers=WORKERS)\n",
    "\n",
    "model.wv.save_word2vec_format(OUTPUT)\n",
    "\n",
    "#全ベクトルを取得\n",
    "vec = model.wv.__getitem__([str(i) for i in range(len(G))])\n"
   ]
  },
  {
   "cell_type": "code",
   "execution_count": 5,
   "metadata": {},
   "outputs": [],
   "source": [
    "df = pd.DataFrame(data = vec)"
   ]
  },
  {
   "cell_type": "code",
   "execution_count": 6,
   "metadata": {},
   "outputs": [
    {
     "name": "stdout",
     "output_type": "stream",
     "text": [
      "           0         1\n",
      "0  -1.222072  0.477312\n",
      "1  -1.209290  0.376110\n",
      "2  -1.190825  0.299190\n",
      "3  -1.131536  0.594236\n",
      "4  -0.958986  0.853796\n",
      "5  -0.999913  0.969763\n",
      "6  -1.169594  0.613531\n",
      "7  -1.104852  0.452990\n",
      "8  -1.116747  0.434062\n",
      "9  -1.016644  0.631625\n",
      "10 -1.099559  0.713524\n",
      "11 -1.035155  0.477356\n",
      "12 -1.059851  0.571330\n",
      "13 -1.066594  0.622950\n",
      "14 -1.078024  0.427844\n",
      "15 -0.922461  0.634747\n",
      "16 -0.936353  0.936461\n",
      "17 -1.070924  0.553125\n",
      "18 -1.038814  0.463520\n",
      "19 -1.120909  0.384511\n",
      "20 -0.995177  0.662826\n",
      "21 -1.154377  0.269663\n",
      "22 -0.951274  0.661337\n",
      "23 -0.930730  0.734284\n",
      "24 -1.169765  0.538525\n",
      "25 -1.070861  0.782610\n",
      "26 -0.930719  0.726582\n",
      "27 -1.090376  0.383794\n",
      "28 -1.012746  0.554580\n",
      "29 -1.132512  0.386417\n",
      "30 -1.194685  0.316241\n",
      "31 -1.064084  0.585725\n",
      "32 -1.090647  0.404978\n",
      "33 -1.158550  0.408864\n"
     ]
    }
   ],
   "source": [
    "print(df)"
   ]
  },
  {
   "cell_type": "code",
   "execution_count": 7,
   "metadata": {},
   "outputs": [],
   "source": [
    "#kemans実行\n",
    "#data_array = np.array([df[0].tolist(),df[1].tolist()],np.float32)\n",
    "#data_array = data_array.T\n",
    "\n",
    "pred = KMeans(n_clusters=N_CLUSTER).fit_predict(vec)\n",
    "df[\"cluster_id\"] = pred\n"
   ]
  },
  {
   "cell_type": "code",
   "execution_count": 8,
   "metadata": {},
   "outputs": [
    {
     "data": {
      "image/png": "[encoded data removed]",
      "text/plain": [
       "<Figure size 640x480 with 1 Axes>"
      ]
     },
     "metadata": {},
     "output_type": "display_data"
    }
   ],
   "source": [
    "for i in df[\"cluster_id\"].unique():\n",
    "    tmp = df.loc[df[\"cluster_id\"]==i]\n",
    "    plt.scatter(tmp[0],tmp[1])"
   ]
  }
 ],
 "metadata": {
  "kernelspec": {
   "display_name": "Python 3.8.15 ('deepwalk')",
   "language": "python",
   "name": "python3"
  },
  "language_info": {
   "codemirror_mode": {
    "name": "ipython",
    "version": 3
   },
   "file_extension": ".py",
   "mimetype": "text/x-python",
   "name": "python",
   "nbconvert_exporter": "python",
   "pygments_lexer": "ipython3",
   "version": "3.8.15"
  },
  "orig_nbformat": 4,
  "vscode": {
   "interpreter": {
    "hash": "6160aadc9d71a91d5c9b52f55eda42d06680a36fb48c8538187090cdc683f2ed"
   }
  }
 },
 "nbformat": 4,
 "nbformat_minor": 2
}
