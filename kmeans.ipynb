{
 "cells": [
  {
   "cell_type": "code",
   "execution_count": 17,
   "metadata": {},
   "outputs": [],
   "source": [
    "import logging\n",
    "import sys\n",
    "from io import open\n",
    "from os import path\n",
    "from time import time\n",
    "from glob import glob\n",
    "from gensim.models import Word2Vec\n",
    "from six.moves import range, zip, zip_longest\n",
    "from six import iterkeys\n",
    "from collections import defaultdict, Iterable\n",
    "import random\n",
    "from random import shuffle\n",
    "from itertools import product, permutations\n",
    "from scipy.io import loadmat\n",
    "from scipy.sparse import issparse\n",
    "from io import open\n",
    "import deepwalk\n",
    "import pandas as pd"
   ]
  },
  {
   "cell_type": "code",
   "execution_count": 14,
   "metadata": {},
   "outputs": [],
   "source": [
    "# インプットするファイル名\n",
    "INPUT = \"p2p-Gnutella08.edgelist\"\n",
    "\n",
    "# アウトプットするファイル名\n",
    "OUTPUT = \"p2p-Gnutella08.txt\"\n",
    "# １ノードあたりに実行するウォーク数\n",
    "NUMBER_WALKS = 5\n",
    "\n",
    "# 1ウォークあたりの長さ\n",
    "WALK_LENGTH = 20\n",
    "\n",
    "# ランダムシード値\n",
    "SEED = 0\n",
    "\n",
    "# 埋め込み後の各ノードの次元数\n",
    "REPRESENTATION_SIZE = 2\n",
    "\n",
    "# skipgramので使われるウィンドウサイズ\n",
    "WINDOW_SIZE = 5\n",
    "\n",
    "# 並列プロセス数\n",
    "WORKERS = 1\n"
   ]
  },
  {
   "cell_type": "code",
   "execution_count": 25,
   "metadata": {},
   "outputs": [
    {
     "name": "stdout",
     "output_type": "stream",
     "text": [
      "Number of nodes: 6301\n",
      "Number of walks: 31505\n",
      "Data size (walks*length): 630100\n",
      "Walking Now!!!!!!\n",
      "Embedding Now!!!!!\n"
     ]
    }
   ],
   "source": [
    "\"\"\"\n",
    "    グラフ生成\n",
    "    G = load_edgelist(ファイル名:String, 無効グラフかどうか:boolean)\n",
    "    \"\"\"\n",
    "G = deepwalk.load_edgelist(INPUT, True)\n",
    "# ノード数出力\n",
    "print(\"Number of nodes: {}\".format(len(G.nodes())))\n",
    "\n",
    "# ウォーク数算出(ノード数*1ノードあたりのウォーク数)と出力\n",
    "num_walks = len(G.nodes()) * NUMBER_WALKS\n",
    "print(\"Number of walks: {}\".format(num_walks))\n",
    "\n",
    "# データサイズ(ウォーク数*ウォークの長さ)の算出と出力\n",
    "data_size = num_walks * WALK_LENGTH\n",
    "print(\"Data size (walks*length): {}\".format(data_size))\n",
    "\n",
    "print(\"Walking Now!!!!!!\")\n",
    "\n",
    "# ウォーク取得(長さは全部等しい)\n",
    "walks = deepwalk.build_deepwalk_corpus(G, num_paths=NUMBER_WALKS,\n",
    "                              path_length=WALK_LENGTH, alpha=0, rand=random.Random(SEED))\n",
    "\n",
    "print(\"Embedding Now!!!!!\")\n",
    "model = Word2Vec(walks, size=REPRESENTATION_SIZE,\n",
    "                 window=WINDOW_SIZE, min_count=0, sg=1, hs=1, workers=WORKERS)\n",
    "\n",
    "model.wv.save_word2vec_format(OUTPUT)\n",
    "\n",
    "#全ベクトルを取得\n",
    "vec = model.wv.__getitem__([str(i) for i in range(len(G))])\n"
   ]
  },
  {
   "cell_type": "code",
   "execution_count": 29,
   "metadata": {},
   "outputs": [
    {
     "data": {
      "text/plain": [
       "array([[-1.8784282 , -2.8028502 ],\n",
       "       [-1.6424943 , -2.5639262 ],\n",
       "       [-1.3810443 , -1.9303118 ],\n",
       "       ...,\n",
       "       [-1.2122581 ,  0.7113602 ],\n",
       "       [-1.0416414 ,  0.54290986],\n",
       "       [-1.2060262 ,  0.9566122 ]], dtype=float32)"
      ]
     },
     "execution_count": 29,
     "metadata": {},
     "output_type": "execute_result"
    }
   ],
   "source": [
    "df = pd.DataFrame(data = vec)"
   ]
  }
 ],
 "metadata": {
  "kernelspec": {
   "display_name": "Python 3.8.15 ('deepwalk')",
   "language": "python",
   "name": "python3"
  },
  "language_info": {
   "codemirror_mode": {
    "name": "ipython",
    "version": 3
   },
   "file_extension": ".py",
   "mimetype": "text/x-python",
   "name": "python",
   "nbconvert_exporter": "python",
   "pygments_lexer": "ipython3",
   "version": "3.8.15"
  },
  "orig_nbformat": 4,
  "vscode": {
   "interpreter": {
    "hash": "6160aadc9d71a91d5c9b52f55eda42d06680a36fb48c8538187090cdc683f2ed"
   }
  }
 },
 "nbformat": 4,
 "nbformat_minor": 2
}
