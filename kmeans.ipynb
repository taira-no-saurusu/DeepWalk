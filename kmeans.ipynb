{
 "cells": [
  {
   "cell_type": "code",
   "execution_count": 223,
   "metadata": {},
   "outputs": [],
   "source": [
    "import logging\n",
    "import sys\n",
    "from io import open\n",
    "from os import path\n",
    "from time import time\n",
    "from glob import glob\n",
    "from gensim.models import Word2Vec\n",
    "from six.moves import range, zip, zip_longest\n",
    "from six import iterkeys\n",
    "from collections import defaultdict, Iterable\n",
    "import random\n",
    "from random import shuffle\n",
    "from itertools import product, permutations\n",
    "from scipy.io import loadmat\n",
    "from scipy.sparse import issparse\n",
    "from io import open\n",
    "import deepwalk\n",
    "import pandas as pd\n",
    "import numpy as np\n",
    "from sklearn.cluster import KMeans\n",
    "import matplotlib.pyplot as plt\n",
    "import networkx as nx\n"
   ]
  },
  {
   "cell_type": "code",
   "execution_count": 224,
   "metadata": {},
   "outputs": [],
   "source": [
    "# インプットするファイル名\n",
    "INPUT = nx.karate_club_graph()\n",
    "\n",
    "# アウトプットするファイル名\n",
    "OUTPUT = \"karate.txt\"\n",
    "# １ノードあたりに実行するウォーク数\n",
    "NUMBER_WALKS = 10\n",
    "\n",
    "# 1ウォークあたりの長さ\n",
    "WALK_LENGTH = 20\n",
    "\n",
    "# ランダムシード値\n",
    "SEED = 0\n",
    "\n",
    "# 埋め込み後の各ノードの次元数\n",
    "REPRESENTATION_SIZE = 2\n",
    "\n",
    "# skipgramので使われるウィンドウサイズ\n",
    "WINDOW_SIZE = 5\n",
    "\n",
    "# 並列プロセス数\n",
    "WORKERS = 1\n",
    "\n",
    "#クラスタ数\n",
    "N_CLUSTER = 2\n"
   ]
  },
  {
   "cell_type": "code",
   "execution_count": 225,
   "metadata": {},
   "outputs": [
    {
     "name": "stdout",
     "output_type": "stream",
     "text": [
      "Number of nodes: 34\n",
      "Number of walks: 170\n",
      "Data size (walks*length): 3400\n",
      "Walking Now!!!!!!\n",
      "Embedding Now!!!!!\n"
     ]
    }
   ],
   "source": [
    "\"\"\"\n",
    "    グラフ生成\n",
    "    G = load_edgelist(ファイル名:String, 無効グラフかどうか:boolean)\n",
    "    \"\"\"\n",
    "G = deepwalk.from_networkx(INPUT, True)\n",
    "# ノード数出力\n",
    "print(\"Number of nodes: {}\".format(len(G.nodes())))\n",
    "\n",
    "# ウォーク数算出(ノード数*1ノードあたりのウォーク数)と出力\n",
    "num_walks = len(G.nodes()) * NUMBER_WALKS\n",
    "print(\"Number of walks: {}\".format(num_walks))\n",
    "\n",
    "# データサイズ(ウォーク数*ウォークの長さ)の算出と出力\n",
    "data_size = num_walks * WALK_LENGTH\n",
    "print(\"Data size (walks*length): {}\".format(data_size))\n",
    "\n",
    "print(\"Walking Now!!!!!!\")\n",
    "\n",
    "# ウォーク取得(長さは全部等しい)\n",
    "walks = deepwalk.build_deepwalk_corpus(G, num_paths=NUMBER_WALKS,\n",
    "                              path_length=WALK_LENGTH, alpha=0, rand=random.Random())\n",
    "\n",
    "print(\"Embedding Now!!!!!\")\n",
    "model = Word2Vec(walks, size=REPRESENTATION_SIZE,\n",
    "                 window=WINDOW_SIZE, min_count=0, sg=1, hs=1, workers=WORKERS)\n",
    "\n",
    "model.wv.save_word2vec_format(OUTPUT)\n",
    "\n",
    "#全ベクトルを取得\n",
    "vec = model.wv.__getitem__([str(i) for i in range(len(G))])\n"
   ]
  },
  {
   "cell_type": "code",
   "execution_count": 226,
   "metadata": {},
   "outputs": [],
   "source": [
    "df = pd.DataFrame(data = vec)"
   ]
  },
  {
   "cell_type": "code",
   "execution_count": 227,
   "metadata": {},
   "outputs": [
    {
     "name": "stdout",
     "output_type": "stream",
     "text": [
      "           0         1\n",
      "0  -1.315981  0.052562\n",
      "1  -1.149662  0.080981\n",
      "2  -1.222548 -0.245193\n",
      "3  -1.213401  0.288361\n",
      "4  -1.371045  0.301243\n",
      "5  -1.486876  0.112562\n",
      "6  -1.603382  0.070741\n",
      "7  -1.201280  0.156873\n",
      "8  -1.116976 -0.061275\n",
      "9  -1.103572 -0.015614\n",
      "10 -1.486687  0.156566\n",
      "11 -1.289660  0.039995\n",
      "12 -1.212154  0.305297\n",
      "13 -1.249105  0.098573\n",
      "14 -1.094876 -0.293220\n",
      "15 -1.136162 -0.035353\n",
      "16 -1.563425  0.317530\n",
      "17 -1.261623  0.150791\n",
      "18 -1.120635 -0.024822\n",
      "19 -1.182906 -0.122843\n",
      "20 -1.020167  0.042389\n",
      "21 -1.189896 -0.043142\n",
      "22 -1.064626  0.017939\n",
      "23 -1.181094  0.058716\n",
      "24 -1.149068 -0.064063\n",
      "25 -1.149272  0.241643\n",
      "26 -1.064472 -0.199471\n",
      "27 -1.193860 -0.150045\n",
      "28 -1.124562 -0.072490\n",
      "29 -1.210156 -0.531938\n",
      "30 -1.125238 -0.191194\n",
      "31 -1.160925  0.067273\n",
      "32 -1.098988 -0.337940\n",
      "33 -1.149160 -0.451041\n"
     ]
    }
   ],
   "source": [
    "print(df)"
   ]
  },
  {
   "cell_type": "code",
   "execution_count": 228,
   "metadata": {},
   "outputs": [],
   "source": [
    "#kemans実行\n",
    "#data_array = np.array([df[0].tolist(),df[1].tolist()],np.float32)\n",
    "#data_array = data_array.T\n",
    "\n",
    "pred = KMeans(n_clusters=N_CLUSTER).fit_predict(vec)\n",
    "df[\"cluster_id\"] = pred\n"
   ]
  },
  {
   "cell_type": "code",
   "execution_count": 229,
   "metadata": {},
   "outputs": [
    {
     "data": {
      "image/png": "[encoded data removed]",
      "text/plain": [
       "<Figure size 640x480 with 1 Axes>"
      ]
     },
     "metadata": {},
     "output_type": "display_data"
    }
   ],
   "source": [
    "for i in df[\"cluster_id\"].unique():\n",
    "    tmp = df.loc[df[\"cluster_id\"]==i]\n",
    "    plt.scatter(tmp[0],tmp[1])"
   ]
  }
 ],
 "metadata": {
  "kernelspec": {
   "display_name": "Python 3.8.15 ('deepwalk')",
   "language": "python",
   "name": "python3"
  },
  "language_info": {
   "codemirror_mode": {
    "name": "ipython",
    "version": 3
   },
   "file_extension": ".py",
   "mimetype": "text/x-python",
   "name": "python",
   "nbconvert_exporter": "python",
   "pygments_lexer": "ipython3",
   "version": "3.8.15"
  },
  "orig_nbformat": 4,
  "vscode": {
   "interpreter": {
    "hash": "6160aadc9d71a91d5c9b52f55eda42d06680a36fb48c8538187090cdc683f2ed"
   }
  }
 },
 "nbformat": 4,
 "nbformat_minor": 2
}
